{
 "cells": [
  {
   "cell_type": "code",
   "execution_count": 1,
   "metadata": {},
   "outputs": [],
   "source": [
    "import pandas as pd\n",
    "import numpy as np"
   ]
  },
  {
   "cell_type": "code",
   "execution_count": 162,
   "metadata": {},
   "outputs": [],
   "source": [
    "dtype_dict = {'bathrooms':float, 'waterfront':int, 'sqft_above':int, 'sqft_living15':float, 'grade':int, 'yr_renovated':int, 'price':float, 'bedrooms':float, 'zipcode':str, 'long':float, 'sqft_lot15':float, 'sqft_living':float, 'floors':float, 'condition':int, 'lat':float, 'date':str, 'sqft_basement':int, 'yr_built':int, 'id':str, 'sqft_lot':int, 'view':int}\n",
    "data = pd.read_csv('data/kc_house_data.csv', dtype=dtype_dict)\n",
    "train = pd.read_csv('data/kc_house_train_data.csv', dtype=dtype_dict)\n",
    "test = pd.read_csv('data/kc_house_test_data.csv', dtype=dtype_dict)"
   ]
  },
  {
   "cell_type": "code",
   "execution_count": 4,
   "metadata": {},
   "outputs": [],
   "source": [
    "def get_numpy_data(data, features, output):\n",
    "    data['constant'] = 1 # add a constant column \n",
    "\n",
    "    # prepend variable 'constant' to the features list\n",
    "    features = ['constant'] + features\n",
    "\n",
    "    # select the columns of data_SFrame given by the ‘features’ list into the SFrame ‘features_sframe’\n",
    "    features_matrix=data[features].to_numpy()\n",
    "\n",
    "    # assign the column of data_sframe associated with the target to the variable ‘output_sarray’\n",
    "    output_array = data[output].to_numpy()\n",
    "\n",
    "    return(features_matrix, output_array)"
   ]
  },
  {
   "cell_type": "code",
   "execution_count": 5,
   "metadata": {},
   "outputs": [],
   "source": [
    "def predict_outcome(feature_matrix, weights):\n",
    "    predictions = np.dot(feature_matrix,weights)\n",
    "    return(predictions)"
   ]
  },
  {
   "cell_type": "code",
   "execution_count": 60,
   "metadata": {},
   "outputs": [],
   "source": [
    "def normalize_features(features):\n",
    "    norms = np.linalg.norm(features, axis=0)\n",
    "    normalized_features = features/norms\n",
    "    return (normalized_features, norms)"
   ]
  },
  {
   "cell_type": "code",
   "execution_count": 63,
   "metadata": {},
   "outputs": [
    {
     "name": "stdout",
     "output_type": "stream",
     "text": [
      "[[0.6 0.6 0.6]\n",
      " [0.8 0.8 0.8]]\n",
      "[ 5. 10. 15.]\n"
     ]
    }
   ],
   "source": [
    "features, norms = normalize_features(np.array([[3.,6.,9.],[4.,8.,12.]]))\n",
    "print(features)\n",
    "# should print\n",
    "# [[ 0.6  0.6  0.6]\n",
    "#  [ 0.8  0.8  0.8]]\n",
    "print(norms)\n",
    "# should print\n",
    "# [5.  10.  15.]"
   ]
  },
  {
   "cell_type": "code",
   "execution_count": 64,
   "metadata": {},
   "outputs": [],
   "source": [
    "features = ['sqft_living', 'bedrooms']\n",
    "my_output = 'price'\n",
    "features_matrix, output = get_numpy_data(data, features, my_output)\n"
   ]
  },
  {
   "cell_type": "code",
   "execution_count": 65,
   "metadata": {},
   "outputs": [],
   "source": [
    "features_matrix, norms = normalize_features(features_matrix)"
   ]
  },
  {
   "cell_type": "code",
   "execution_count": 66,
   "metadata": {},
   "outputs": [],
   "source": [
    "initial_weights = [1.,4.,1.]"
   ]
  },
  {
   "cell_type": "code",
   "execution_count": 67,
   "metadata": {},
   "outputs": [],
   "source": [
    "prediction = predict_outcome(features_matrix, initial_weights)"
   ]
  },
  {
   "cell_type": "code",
   "execution_count": 68,
   "metadata": {},
   "outputs": [],
   "source": [
    "ro = [np.sum(features_matrix[:,i]*(output - prediction + initial_weights[i]*features_matrix[:,i])) for i in range(3)]"
   ]
  },
  {
   "cell_type": "code",
   "execution_count": 69,
   "metadata": {},
   "outputs": [
    {
     "data": {
      "text/plain": [
       "[79400300.0145229, 87939470.82325175, 80966698.66623947]"
      ]
     },
     "execution_count": 69,
     "metadata": {},
     "output_type": "execute_result"
    }
   ],
   "source": [
    "ro"
   ]
  },
  {
   "cell_type": "code",
   "execution_count": 79,
   "metadata": {},
   "outputs": [
    {
     "name": "stdout",
     "output_type": "stream",
     "text": [
      "[161933398.33247894, 175878940.6465035]\n"
     ]
    }
   ],
   "source": [
    "l1_penalty_range = [ro[2]*2+1 , ro[1]*2-1]\n",
    "print(l1_penalty_range)"
   ]
  },
  {
   "cell_type": "code",
   "execution_count": 80,
   "metadata": {},
   "outputs": [],
   "source": [
    "def lasso_coordinate_descent_step(i, features_matrix, output, weights, l1_penalty):\n",
    "    # compute prediction\n",
    "    prediction = predict_outcome(features_matrix, weights)\n",
    "    # compute ro[i] = SUM[ [feature_i]*(output - prediction + weight[i]*[feature_i]) ]\n",
    "    ro_i = np.sum(features_matrix[:,i]*(output - prediction + weights[i]*features_matrix[:,i]))\n",
    "    \n",
    "    if i == 0: # intercept -- do not regularize\n",
    "        new_weight_i = ro_i\n",
    "    elif ro_i < -l1_penalty/2.:\n",
    "        new_weight_i = ro_i + l1_penalty/2\n",
    "    elif ro_i > l1_penalty/2.:\n",
    "        new_weight_i = ro_i - l1_penalty/2\n",
    "    else:\n",
    "        new_weight_i = 0.\n",
    "    \n",
    "    return new_weight_i"
   ]
  },
  {
   "cell_type": "code",
   "execution_count": 117,
   "metadata": {},
   "outputs": [
    {
     "name": "stdout",
     "output_type": "stream",
     "text": [
      "0.4255588466910251\n"
     ]
    }
   ],
   "source": [
    "# should print 0.425558846691\n",
    "import math\n",
    "print(lasso_coordinate_descent_step(1, np.array([[3./math.sqrt(13),1./math.sqrt(10)],[2./math.sqrt(13),3./math.sqrt(10)]]), \n",
    "                                   np.array([1., 1.]), np.array([1., 4.]), 0.1))"
   ]
  },
  {
   "cell_type": "code",
   "execution_count": 140,
   "metadata": {},
   "outputs": [],
   "source": [
    "def lasso_cyclical_coordinate_descent(features_matrix, output, initial_weights, l1_penalty, tolerance):\n",
    "    weights = initial_weights.copy()  \n",
    "    converged = False\n",
    "    iter = 0\n",
    "    \n",
    "    while not converged:\n",
    "        max_change = 0.0\n",
    "        \n",
    "        for i in range(len(weights)):\n",
    "            old_weight = weights[i]\n",
    "            # Actualiza el peso i usando los valores más recientes de los otros pesos\n",
    "            weights[i] = lasso_coordinate_descent_step(i, features_matrix, output, weights, l1_penalty)\n",
    "            # Calcula el cambio para este peso\n",
    "            change = abs(old_weight - weights[i])\n",
    "            max_change = max(max_change, change)\n",
    "        \n",
    "        # Verifica la convergencia después de cada ciclo completo\n",
    "        converged = max_change < tolerance\n",
    "        iter += 1\n",
    "    \n",
    "    print(iter)\n",
    "    return weights"
   ]
  },
  {
   "cell_type": "code",
   "execution_count": 141,
   "metadata": {},
   "outputs": [],
   "source": [
    "initial_weights = [0.,0.,0.]\n",
    "l1_penalty = 1e7\n",
    "tolerance = 1.0\n",
    "features = ['sqft_living', 'bedrooms']\n",
    "my_output = 'price'\n",
    "features_matrix, output = get_numpy_data(data, features, my_output)\n",
    "\n",
    "features_matrix, norms = normalize_features(features_matrix)"
   ]
  },
  {
   "cell_type": "code",
   "execution_count": 142,
   "metadata": {},
   "outputs": [
    {
     "name": "stdout",
     "output_type": "stream",
     "text": [
      "93\n"
     ]
    }
   ],
   "source": [
    "weights=lasso_cyclical_coordinate_descent(features_matrix,output,initial_weights, l1_penalty, tolerance)"
   ]
  },
  {
   "cell_type": "code",
   "execution_count": 143,
   "metadata": {},
   "outputs": [],
   "source": [
    "prediction = predict_outcome(features_matrix, weights)"
   ]
  },
  {
   "cell_type": "code",
   "execution_count": 144,
   "metadata": {},
   "outputs": [],
   "source": [
    "RSS = ((data['price']-prediction)**2).sum()"
   ]
  },
  {
   "cell_type": "code",
   "execution_count": 146,
   "metadata": {},
   "outputs": [
    {
     "data": {
      "text/plain": [
       "1630492476715386.5"
      ]
     },
     "execution_count": 146,
     "metadata": {},
     "output_type": "execute_result"
    }
   ],
   "source": [
    "RSS"
   ]
  },
  {
   "cell_type": "code",
   "execution_count": 145,
   "metadata": {},
   "outputs": [
    {
     "data": {
      "text/plain": [
       "[21624997.959519103, 63157247.20788956, 0.0]"
      ]
     },
     "execution_count": 145,
     "metadata": {},
     "output_type": "execute_result"
    }
   ],
   "source": [
    "weights "
   ]
  },
  {
   "cell_type": "markdown",
   "metadata": {},
   "source": [
    "# More feautures"
   ]
  },
  {
   "cell_type": "code",
   "execution_count": 163,
   "metadata": {},
   "outputs": [],
   "source": [
    "all_features = ['bedrooms',\n",
    "                'bathrooms',\n",
    "                'sqft_living',\n",
    "                'sqft_lot',\n",
    "                'floors',\n",
    "                'waterfront', \n",
    "                'view', \n",
    "                'condition', \n",
    "                'grade',\n",
    "                'sqft_above',\n",
    "                'sqft_basement',\n",
    "                'yr_built', \n",
    "                'yr_renovated']\n",
    "my_output = 'price'\n"
   ]
  },
  {
   "cell_type": "code",
   "execution_count": 164,
   "metadata": {},
   "outputs": [],
   "source": [
    "(all_feature_train_matrix, all_train_output) = get_numpy_data(train, all_features, my_output)\n",
    "normalized_all_train_feature_matrix, norms = normalize_features(all_feature_train_matrix)"
   ]
  },
  {
   "cell_type": "code",
   "execution_count": 172,
   "metadata": {},
   "outputs": [],
   "source": [
    "l1_penalty=1e7\n",
    "initial_weights = np.zeros(len(all_features)+1)\n",
    "tolerance = 1.0\n",
    "my_output = 'price'\n",
    "features_matrix, output = get_numpy_data(train, all_features, my_output)\n",
    "normalized_feature_matrix, norms = normalize_features(features_matrix)\n"
   ]
  },
  {
   "cell_type": "code",
   "execution_count": 173,
   "metadata": {},
   "outputs": [
    {
     "name": "stdout",
     "output_type": "stream",
     "text": [
      "93\n"
     ]
    }
   ],
   "source": [
    "weights1e7=lasso_cyclical_coordinate_descent(normalized_feature_matrix,output,initial_weights, l1_penalty, tolerance)"
   ]
  },
  {
   "cell_type": "code",
   "execution_count": 174,
   "metadata": {},
   "outputs": [
    {
     "name": "stdout",
     "output_type": "stream",
     "text": [
      "[24429600.23440313        0.                0.         48389174.77154895\n",
      "        0.                0.          3317511.21492165  7329961.81171426\n",
      "        0.                0.                0.                0.\n",
      "        0.                0.        ]\n"
     ]
    }
   ],
   "source": [
    "print(weights1e7)"
   ]
  },
  {
   "cell_type": "code",
   "execution_count": 175,
   "metadata": {},
   "outputs": [
    {
     "name": "stdout",
     "output_type": "stream",
     "text": [
      "2\n"
     ]
    }
   ],
   "source": [
    "l1_penalty=1e8\n",
    "initial_weights = np.zeros(len(all_features)+1)\n",
    "tolerance = 1.0\n",
    "weights1e8=lasso_cyclical_coordinate_descent(normalized_feature_matrix,output,initial_weights, l1_penalty, tolerance)"
   ]
  },
  {
   "cell_type": "code",
   "execution_count": 176,
   "metadata": {},
   "outputs": [
    {
     "data": {
      "text/plain": [
       "array([71114625.71488702,        0.        ,        0.        ,\n",
       "              0.        ,        0.        ,        0.        ,\n",
       "              0.        ,        0.        ,        0.        ,\n",
       "              0.        ,        0.        ,        0.        ,\n",
       "              0.        ,        0.        ])"
      ]
     },
     "execution_count": 176,
     "metadata": {},
     "output_type": "execute_result"
    }
   ],
   "source": [
    "weights1e8"
   ]
  },
  {
   "cell_type": "code",
   "execution_count": 177,
   "metadata": {},
   "outputs": [],
   "source": [
    "l1_penalty = 1e4\n",
    "tolerance = 5e5"
   ]
  },
  {
   "cell_type": "code",
   "execution_count": 178,
   "metadata": {},
   "outputs": [
    {
     "name": "stdout",
     "output_type": "stream",
     "text": [
      "90\n"
     ]
    }
   ],
   "source": [
    "initial_weights = np.zeros( len(all_features)+1 )\n",
    "weights1e4 =lasso_cyclical_coordinate_descent(normalized_feature_matrix,output,initial_weights, l1_penalty, tolerance)\n"
   ]
  },
  {
   "cell_type": "code",
   "execution_count": 179,
   "metadata": {},
   "outputs": [
    {
     "data": {
      "text/plain": [
       "array([ 78564738.34156768, -22097398.92430537,  12791071.87278518,\n",
       "        93808088.09281202,  -2013172.75704955,  -4219184.9326502 ,\n",
       "         6482842.81753507,   7127408.53480688,   5001664.85469639,\n",
       "        14327518.43714052, -15770959.15237399,  -5159591.22213149,\n",
       "       -84495341.76843642,   2824439.49703684])"
      ]
     },
     "execution_count": 179,
     "metadata": {},
     "output_type": "execute_result"
    }
   ],
   "source": [
    "weights1e4"
   ]
  },
  {
   "cell_type": "code",
   "execution_count": 180,
   "metadata": {},
   "outputs": [],
   "source": [
    "normalized_weights1e4 = weights1e4/norms\n",
    "normalized_weights1e7 = weights1e7/norms\n",
    "normalized_weights1e8 = weights1e8/norms"
   ]
  },
  {
   "cell_type": "code",
   "execution_count": 181,
   "metadata": {},
   "outputs": [
    {
     "name": "stdout",
     "output_type": "stream",
     "text": [
      "161.3174576461176\n"
     ]
    }
   ],
   "source": [
    "print(normalized_weights1e7[3])"
   ]
  },
  {
   "cell_type": "code",
   "execution_count": 182,
   "metadata": {},
   "outputs": [],
   "source": [
    "(test_feature_matrix, test_output) = get_numpy_data(test, all_features, 'price')"
   ]
  },
  {
   "cell_type": "code",
   "execution_count": 183,
   "metadata": {},
   "outputs": [],
   "source": [
    "(all_feature_test_matrix, all_test_output) = get_numpy_data(test, all_features, my_output)"
   ]
  },
  {
   "cell_type": "code",
   "execution_count": 184,
   "metadata": {},
   "outputs": [],
   "source": [
    "weights1e4_predictions = predict_outcome(all_feature_test_matrix, normalized_weights1e4)\n"
   ]
  },
  {
   "cell_type": "code",
   "execution_count": null,
   "metadata": {},
   "outputs": [
    {
     "name": "stdout",
     "output_type": "stream",
     "text": [
      "228459958971393.22\n"
     ]
    }
   ],
   "source": [
    "#weights1e7\n",
    "residuals = weights1e4_predictions - all_test_output\n",
    "squared = residuals**2\n",
    "weights1e4_RSS = squared.sum()\n",
    "print(weights1e4_RSS)"
   ]
  },
  {
   "cell_type": "code",
   "execution_count": 186,
   "metadata": {},
   "outputs": [
    {
     "name": "stdout",
     "output_type": "stream",
     "text": [
      "275962075920366.8\n"
     ]
    }
   ],
   "source": [
    "#weights1e7\n",
    "weights1e7_predictions = predict_outcome(all_feature_test_matrix, normalized_weights1e7)\n",
    "residuals = weights1e7_predictions - all_test_output\n",
    "squared = residuals**2\n",
    "weights1e7_RSS = squared.sum()\n",
    "print(weights1e7_RSS)"
   ]
  },
  {
   "cell_type": "code",
   "execution_count": 187,
   "metadata": {},
   "outputs": [
    {
     "name": "stdout",
     "output_type": "stream",
     "text": [
      "537166151497322.75\n"
     ]
    }
   ],
   "source": [
    "#weights1e8\n",
    "weights1e8_predictions = predict_outcome(all_feature_test_matrix, normalized_weights1e8)\n",
    "residuals = weights1e8_predictions - all_test_output\n",
    "squared = residuals**2\n",
    "weights1e8_RSS = squared.sum()\n",
    "print(weights1e8_RSS)"
   ]
  },
  {
   "cell_type": "code",
   "execution_count": null,
   "metadata": {},
   "outputs": [],
   "source": []
  }
 ],
 "metadata": {
  "kernelspec": {
   "display_name": "ml_linux",
   "language": "python",
   "name": "python3"
  },
  "language_info": {
   "codemirror_mode": {
    "name": "ipython",
    "version": 3
   },
   "file_extension": ".py",
   "mimetype": "text/x-python",
   "name": "python",
   "nbconvert_exporter": "python",
   "pygments_lexer": "ipython3",
   "version": "3.8.20"
  }
 },
 "nbformat": 4,
 "nbformat_minor": 2
}
