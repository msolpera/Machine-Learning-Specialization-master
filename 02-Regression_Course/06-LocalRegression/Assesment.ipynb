{
 "cells": [
  {
   "cell_type": "markdown",
   "metadata": {},
   "source": [
    "# Predicting house prices using k-nearest neighbors regression\n",
    "In this notebook, you will implement k-nearest neighbors regression. You will:\n",
    "  * Find the k-nearest neighbors of a given query input\n",
    "  * Predict the output for the query input using the k-nearest neighbors\n",
    "  * Choose the best value of k using a validation set"
   ]
  },
  {
   "cell_type": "code",
   "execution_count": 1,
   "metadata": {},
   "outputs": [],
   "source": [
    "import numpy as np\n",
    "import pandas as pd"
   ]
  },
  {
   "cell_type": "code",
   "execution_count": 2,
   "metadata": {},
   "outputs": [],
   "source": [
    "dtype_dict = {'bathrooms':float, 'waterfront':int, 'sqft_above':int, 'sqft_living15':float, 'grade':int, 'yr_renovated':int, 'price':float, 'bedrooms':float, 'zipcode':str, 'long':float, 'sqft_lot15':float, 'sqft_living':float, 'floors':float, 'condition':int, 'lat':float, 'date':str, 'sqft_basement':int, 'yr_built':int, 'id':str, 'sqft_lot':int, 'view':int}"
   ]
  },
  {
   "cell_type": "code",
   "execution_count": 9,
   "metadata": {},
   "outputs": [],
   "source": [
    "train = pd.read_csv('data/kc_house_data_small_train.csv', dtype=dtype_dict)\n",
    "test = pd.read_csv('data/kc_house_data_small_test.csv', dtype=dtype_dict)\n",
    "validation = pd.read_csv('data/kc_house_data_validation.csv', dtype=dtype_dict)"
   ]
  },
  {
   "cell_type": "code",
   "execution_count": 5,
   "metadata": {},
   "outputs": [],
   "source": [
    "def get_numpy_data(data, features, output):\n",
    "    data['constant'] = 1 # add a constant column \n",
    "\n",
    "    # prepend variable 'constant' to the features list\n",
    "    features = ['constant'] + features\n",
    "\n",
    "    # select the columns of data_SFrame given by the ‘features’ list into the SFrame ‘features_sframe’\n",
    "    features_matrix=data[features].to_numpy()\n",
    "\n",
    "    # assign the column of data_sframe associated with the target to the variable ‘output_sarray’\n",
    "    output_array = data[output].to_numpy()\n",
    "\n",
    "    return(features_matrix, output_array)"
   ]
  },
  {
   "cell_type": "code",
   "execution_count": 6,
   "metadata": {},
   "outputs": [],
   "source": [
    "def normalize_features(features):\n",
    "    norms = np.linalg.norm(features, axis=0)\n",
    "    normalized_features = features/norms\n",
    "    return (normalized_features, norms)"
   ]
  },
  {
   "cell_type": "code",
   "execution_count": 15,
   "metadata": {},
   "outputs": [],
   "source": [
    "features = ['bedrooms',  \n",
    "                'bathrooms',  \n",
    "                'sqft_living',  \n",
    "                'sqft_lot',  \n",
    "                'floors',\n",
    "                'waterfront',  \n",
    "                'view',  \n",
    "                'condition',  \n",
    "                'grade',  \n",
    "                'sqft_above',  \n",
    "                'sqft_basement',\n",
    "                'yr_built',  \n",
    "                'yr_renovated',  \n",
    "                'lat',  \n",
    "                'long',  \n",
    "                'sqft_living15',  \n",
    "                'sqft_lot15']\n",
    "output = 'price'\n",
    "features_train, output_train = get_numpy_data(train, features, output)\n",
    "features_test, output_test = get_numpy_data(test, features, output)\n",
    "features_valid, output_valid = get_numpy_data(validation, features, output)"
   ]
  },
  {
   "cell_type": "code",
   "execution_count": 16,
   "metadata": {},
   "outputs": [],
   "source": [
    "features_train, norms = normalize_features(features_train)\n",
    "features_test = features_test / norms\n",
    "features_valid = features_valid / norms"
   ]
  },
  {
   "cell_type": "code",
   "execution_count": null,
   "metadata": {},
   "outputs": [
    {
     "name": "stdout",
     "output_type": "stream",
     "text": [
      "[ 0.01345102  0.01551285  0.01807473  0.01759212  0.00160518  0.017059\n",
      "  0.          0.05102365  0.0116321   0.01564352  0.01362084  0.02481682\n",
      "  0.01350306  0.          0.01345387 -0.01346922  0.01375926  0.0016225 ]\n",
      "[ 0.01345102  0.01163464  0.00602491  0.0083488   0.00050756  0.01279425\n",
      "  0.          0.          0.01938684  0.01390535  0.0096309   0.\n",
      "  0.01302544  0.          0.01346821 -0.01346251  0.01195898  0.00156612]\n"
     ]
    }
   ],
   "source": [
    "print(features_test[0])\n",
    "print(features_train[9])"
   ]
  },
  {
   "cell_type": "markdown",
   "metadata": {},
   "source": [
    "8. Quiz Question: What is the Euclidean distance between the query house and the 10th house of the training set? "
   ]
  },
  {
   "cell_type": "code",
   "execution_count": 25,
   "metadata": {},
   "outputs": [
    {
     "data": {
      "text/plain": [
       "0.05972359371398078"
      ]
     },
     "execution_count": 25,
     "metadata": {},
     "output_type": "execute_result"
    }
   ],
   "source": [
    "dist = np.linalg.norm(features_test[0]-features_train[9])\n",
    "dist\n",
    "\n"
   ]
  },
  {
   "cell_type": "code",
   "execution_count": 26,
   "metadata": {},
   "outputs": [
    {
     "data": {
      "text/plain": [
       "0.05972359371398078"
      ]
     },
     "execution_count": 26,
     "metadata": {},
     "output_type": "execute_result"
    }
   ],
   "source": [
    "dist2 = np.sqrt(np.sum((features_test[0]-features_train[9])**2))\n",
    "dist2\n"
   ]
  },
  {
   "cell_type": "code",
   "execution_count": 35,
   "metadata": {},
   "outputs": [],
   "source": [
    "query_10dist = [np.sqrt(np.sum((features_test[0]-features_train[i])**2)) for i in range(len(features_train[0:10]))]"
   ]
  },
  {
   "cell_type": "code",
   "execution_count": 36,
   "metadata": {},
   "outputs": [
    {
     "data": {
      "text/plain": [
       "[0.06027470916295592,\n",
       " 0.08546881147643746,\n",
       " 0.06149946435279315,\n",
       " 0.05340273979294363,\n",
       " 0.05844484060170442,\n",
       " 0.059879215098128345,\n",
       " 0.05463140496775461,\n",
       " 0.055431083236146074,\n",
       " 0.052383627840220305,\n",
       " 0.05972359371398078]"
      ]
     },
     "execution_count": 36,
     "metadata": {},
     "output_type": "execute_result"
    }
   ],
   "source": [
    "query_10dist "
   ]
  },
  {
   "cell_type": "markdown",
   "metadata": {},
   "source": [
    "10. Quiz Question: Among the first 10 training houses, which house is the closest to the query house?"
   ]
  },
  {
   "cell_type": "code",
   "execution_count": 37,
   "metadata": {},
   "outputs": [
    {
     "data": {
      "text/plain": [
       "8"
      ]
     },
     "execution_count": 37,
     "metadata": {},
     "output_type": "execute_result"
    }
   ],
   "source": [
    "np.argmin(query_10dist)"
   ]
  },
  {
   "cell_type": "code",
   "execution_count": 39,
   "metadata": {},
   "outputs": [
    {
     "data": {
      "text/plain": [
       "array([[ 0.00000000e+00,  3.87821276e-03,  1.20498190e-02,\n",
       "         1.05552733e-02, -2.08673616e-04,  8.52950206e-03,\n",
       "         0.00000000e+00,  5.10236549e-02,  0.00000000e+00,\n",
       "         3.47633726e-03,  5.50336860e-03,  2.48168183e-02,\n",
       "         1.63756198e-04,  0.00000000e+00,  1.70254220e-05,\n",
       "        -1.29876855e-05,  5.14364795e-03, -6.69281453e-04],\n",
       "       [ 0.00000000e+00,  3.87821276e-03,  4.51868214e-03,\n",
       "         2.26610387e-03, -7.19763456e-04,  0.00000000e+00,\n",
       "         0.00000000e+00,  5.10236549e-02,  0.00000000e+00,\n",
       "         3.47633726e-03, -1.30705004e-03,  1.45830788e-02,\n",
       "         1.91048898e-04, -6.65082271e-02, -4.23090220e-05,\n",
       "        -6.16364736e-06,  2.89330197e-03, -1.47606982e-03],\n",
       "       [ 0.00000000e+00,  7.75642553e-03,  1.20498190e-02,\n",
       "         1.30002801e-02, -1.60518166e-03,  8.52950206e-03,\n",
       "         0.00000000e+00,  5.10236549e-02,  0.00000000e+00,\n",
       "         5.21450589e-03,  8.32384500e-03,  2.48168183e-02,\n",
       "         3.13866046e-04,  0.00000000e+00, -4.70885840e-05,\n",
       "        -1.56292487e-05, -3.72914476e-03, -1.64764925e-03],\n",
       "       [ 0.00000000e+00,  0.00000000e+00,  0.00000000e+00,\n",
       "         5.90379693e-03,  0.00000000e+00,  8.52950206e-03,\n",
       "         0.00000000e+00,  5.10236549e-02, -7.75473450e-03,\n",
       "         3.47633726e-03,  6.39766599e-03,  1.53506093e-03,\n",
       "         9.55244489e-05,  0.00000000e+00,  1.43104045e-05,\n",
       "         1.98117236e-06,  5.01505675e-03, -4.05625123e-04],\n",
       "       [ 0.00000000e+00,  3.87821276e-03,  6.02490952e-03,\n",
       "         7.57355768e-03, -9.88791902e-04,  8.52950206e-03,\n",
       "         0.00000000e+00,  5.10236549e-02,  0.00000000e+00,\n",
       "         1.73816863e-03,  2.06376322e-03,  2.48168183e-02,\n",
       "        -5.45853994e-05,  0.00000000e+00, -1.28397701e-05,\n",
       "        -3.63214933e-05,  2.18605038e-03, -1.42090481e-03],\n",
       "       [ 0.00000000e+00,  3.87821276e-03,  9.03736428e-03,\n",
       "         1.12708850e-02, -1.51240216e-03,  8.52950206e-03,\n",
       "         0.00000000e+00,  5.10236549e-02,  0.00000000e+00,\n",
       "         3.47633726e-03,  6.32887389e-03,  2.48168183e-02,\n",
       "         1.09170799e-04,  0.00000000e+00,  4.57876381e-05,\n",
       "        -6.60390788e-06,  3.15048437e-03, -2.31652508e-03],\n",
       "       [ 0.00000000e+00,  3.87821276e-03,  1.20498190e-02,\n",
       "         6.97721455e-03, -7.92959740e-04,  8.52950206e-03,\n",
       "         0.00000000e+00,  5.10236549e-02,  0.00000000e+00,\n",
       "         3.47633726e-03,  6.39766599e-03,  6.14024370e-03,\n",
       "         1.29640323e-04,  0.00000000e+00,  1.67143262e-05,\n",
       "        -4.18247499e-06,  2.31464158e-03, -1.66833613e-03],\n",
       "       [ 0.00000000e+00,  3.87821276e-03,  3.01245476e-03,\n",
       "        -3.63769306e-03, -1.53969025e-03,  8.52950206e-03,\n",
       "         0.00000000e+00,  5.10236549e-02,  0.00000000e+00,\n",
       "         1.73816863e-03,  8.25505290e-04, -1.86765746e-02,\n",
       "         9.55244489e-05,  0.00000000e+00, -8.28645953e-06,\n",
       "        -2.53149802e-05, -4.50069195e-04, -1.99770373e-03],\n",
       "       [ 0.00000000e+00,  3.87821276e-03,  7.53113690e-03,\n",
       "         2.98171562e-03,  7.41272890e-04,  0.00000000e+00,\n",
       "         0.00000000e+00,  5.10236549e-02,  0.00000000e+00,\n",
       "         1.73816863e-03,  1.58221847e-03,  6.90777416e-03,\n",
       "         4.36683195e-04,  0.00000000e+00, -1.90051222e-05,\n",
       "        -1.65097697e-06,  2.44323277e-03,  1.73201928e-04],\n",
       "       [ 0.00000000e+00,  3.87821276e-03,  1.20498190e-02,\n",
       "         9.24331842e-03,  1.09762322e-03,  4.26475103e-03,\n",
       "         0.00000000e+00,  5.10236549e-02, -7.75473450e-03,\n",
       "         1.73816863e-03,  3.98994223e-03,  2.48168183e-02,\n",
       "         4.77622244e-04,  0.00000000e+00, -1.43386859e-05,\n",
       "        -6.71397301e-06,  1.80027678e-03,  5.63818921e-05]])"
      ]
     },
     "execution_count": 39,
     "metadata": {},
     "output_type": "execute_result"
    }
   ],
   "source": [
    "diff = features_test[0]-features_train[0:10]\n",
    "diff"
   ]
  },
  {
   "cell_type": "code",
   "execution_count": 41,
   "metadata": {},
   "outputs": [
    {
     "data": {
      "text/plain": [
       "array([0.06027471, 0.08546881, 0.06149946, 0.05340274, 0.05844484,\n",
       "       0.05987922, 0.0546314 , 0.05543108, 0.05238363, 0.05972359])"
      ]
     },
     "execution_count": 41,
     "metadata": {},
     "output_type": "execute_result"
    }
   ],
   "source": [
    "np.sqrt(np.sum(diff**2, axis=1))"
   ]
  },
  {
   "cell_type": "code",
   "execution_count": 46,
   "metadata": {},
   "outputs": [],
   "source": [
    "def compute_distances(features_instances, features_query):\n",
    "    distances = np.sqrt(np.sum((features_query-features_instances)**2, axis=1))\n",
    "    return distances"
   ]
  },
  {
   "cell_type": "code",
   "execution_count": 47,
   "metadata": {},
   "outputs": [
    {
     "data": {
      "text/plain": [
       "array([0.06027471, 0.08546881, 0.06149946, 0.05340274, 0.05844484,\n",
       "       0.05987922, 0.0546314 , 0.05543108, 0.05238363, 0.05972359])"
      ]
     },
     "execution_count": 47,
     "metadata": {},
     "output_type": "execute_result"
    }
   ],
   "source": [
    "compute_distances(features_train[0:10],features_test[0])"
   ]
  },
  {
   "cell_type": "markdown",
   "metadata": {},
   "source": [
    "16. Quiz Question: Take the query house to be third house of the test set (features_test[2]).  What is the index of the house in the training set that is closest to this query house?"
   ]
  },
  {
   "cell_type": "code",
   "execution_count": 50,
   "metadata": {},
   "outputs": [
    {
     "data": {
      "text/plain": [
       "382"
      ]
     },
     "execution_count": 50,
     "metadata": {},
     "output_type": "execute_result"
    }
   ],
   "source": [
    "np.argmin(compute_distances(features_train,features_test[2]))"
   ]
  },
  {
   "cell_type": "code",
   "execution_count": 65,
   "metadata": {},
   "outputs": [],
   "source": [
    "def k_nearest_neighbors(k, feature_train, features_query):\n",
    "    distances = compute_distances(features_train, features_query)\n",
    "    sorted_indices = distances.argsort()\n",
    "    neighbors = feature_train[sorted_indices][0:k]\n",
    "    return neighbors, sorted_indices[0:k]"
   ]
  },
  {
   "cell_type": "code",
   "execution_count": 66,
   "metadata": {},
   "outputs": [
    {
     "data": {
      "text/plain": [
       "(array([[ 0.01345102,  0.01163464,  0.00903736,  0.01013783,  0.00264759,\n",
       "          0.0085295 ,  0.        ,  0.        ,  0.0116321 ,  0.01216718,\n",
       "          0.006948  ,  0.0176532 ,  0.01344165,  0.        ,  0.01341151,\n",
       "         -0.0134471 ,  0.00925857,  0.00340725]]),\n",
       " array([382]))"
      ]
     },
     "execution_count": 66,
     "metadata": {},
     "output_type": "execute_result"
    }
   ],
   "source": [
    "k_nearest_neighbors(1, features_train, features_test[2])"
   ]
  },
  {
   "cell_type": "code",
   "execution_count": 63,
   "metadata": {},
   "outputs": [
    {
     "data": {
      "text/plain": [
       "array([ 0.01345102,  0.01163464,  0.00903736,  0.01013783,  0.00264759,\n",
       "        0.0085295 ,  0.        ,  0.        ,  0.0116321 ,  0.01216718,\n",
       "        0.006948  ,  0.0176532 ,  0.01344165,  0.        ,  0.01341151,\n",
       "       -0.0134471 ,  0.00925857,  0.00340725])"
      ]
     },
     "execution_count": 63,
     "metadata": {},
     "output_type": "execute_result"
    }
   ],
   "source": [
    "features_train[382]"
   ]
  },
  {
   "cell_type": "code",
   "execution_count": 86,
   "metadata": {},
   "outputs": [
    {
     "data": {
      "text/plain": [
       "249000.0"
      ]
     },
     "execution_count": 86,
     "metadata": {},
     "output_type": "execute_result"
    }
   ],
   "source": [
    "output_train[382]"
   ]
  },
  {
   "cell_type": "markdown",
   "metadata": {},
   "source": [
    "19. Quiz Question: Take the query house to be third house of the test set (features_test[2]).  What are the indices of the 4 training houses closest to the query house?"
   ]
  },
  {
   "cell_type": "code",
   "execution_count": 67,
   "metadata": {},
   "outputs": [
    {
     "data": {
      "text/plain": [
       "(array([[ 0.01345102,  0.01163464,  0.00903736,  0.01013783,  0.00264759,\n",
       "          0.0085295 ,  0.        ,  0.        ,  0.0116321 ,  0.01216718,\n",
       "          0.006948  ,  0.0176532 ,  0.01344165,  0.        ,  0.01341151,\n",
       "         -0.0134471 ,  0.00925857,  0.00340725],\n",
       "        [ 0.01345102,  0.01163464,  0.01204982,  0.010436  ,  0.00160197,\n",
       "          0.0085295 ,  0.        ,  0.        ,  0.0116321 ,  0.01216718,\n",
       "          0.00653525,  0.02046748,  0.0130732 ,  0.        ,  0.01348083,\n",
       "         -0.01346768,  0.01093025,  0.00202813],\n",
       "        [ 0.01345102,  0.01163464,  0.01204982,  0.00811027,  0.00080259,\n",
       "          0.0085295 ,  0.        ,  0.        ,  0.0116321 ,  0.01216718,\n",
       "          0.00502182,  0.01611814,  0.01355083,  0.        ,  0.01348326,\n",
       "         -0.0134679 ,  0.01048018,  0.00202813],\n",
       "        [ 0.01345102,  0.01163464,  0.00903736,  0.01079381,  0.00163086,\n",
       "          0.0085295 ,  0.        ,  0.        ,  0.0116321 ,  0.01216718,\n",
       "          0.00708559,  0.01995579,  0.01335978,  0.        ,  0.01348512,\n",
       "         -0.01345953,  0.01144462,  0.00309086]]),\n",
       " array([ 382, 1149, 4087, 3142]))"
      ]
     },
     "execution_count": 67,
     "metadata": {},
     "output_type": "execute_result"
    }
   ],
   "source": [
    "k_nearest_neighbors(4, features_train, features_test[2])"
   ]
  },
  {
   "cell_type": "code",
   "execution_count": 68,
   "metadata": {},
   "outputs": [],
   "source": [
    "def predict_output_of_query(k, features_train, output_train, features_query):\n",
    "    neighbors, index = k_nearest_neighbors(k, features_train, features_query)\n",
    "    prediction = np.mean(output_train[index])\n",
    "    return prediction"
   ]
  },
  {
   "cell_type": "markdown",
   "metadata": {},
   "source": [
    "21. Quiz Question: Again taking the query house to be third house of the test set (features_test[2]), predict the value of the query house using k-nearest neighbors with k=4 and the simple averaging method described and implemented above."
   ]
  },
  {
   "cell_type": "code",
   "execution_count": 69,
   "metadata": {},
   "outputs": [
    {
     "data": {
      "text/plain": [
       "413987.5"
      ]
     },
     "execution_count": 69,
     "metadata": {},
     "output_type": "execute_result"
    }
   ],
   "source": [
    "predict_output_of_query(4, features_train, output_train, features_test[2])"
   ]
  },
  {
   "cell_type": "code",
   "execution_count": 70,
   "metadata": {},
   "outputs": [],
   "source": [
    "def predict_output(k, features_train, output_train, features_query):\n",
    "    predictions = []\n",
    "    for query in features_query:\n",
    "        predictions.append(predict_output_of_query(k, features_train, output_train, query))\n",
    "    return predictions"
   ]
  },
  {
   "cell_type": "markdown",
   "metadata": {},
   "source": [
    "23. Quiz Question: Make predictions for the first 10 houses in the test set, using k=10. What is the index of the house in this query set that has the lowest predicted value?  What is the predicted value of this house?"
   ]
  },
  {
   "cell_type": "code",
   "execution_count": 82,
   "metadata": {},
   "outputs": [],
   "source": [
    "pred10=predict_output(10, features_train, output_train, features_test[0:10])"
   ]
  },
  {
   "cell_type": "code",
   "execution_count": 83,
   "metadata": {},
   "outputs": [
    {
     "data": {
      "text/plain": [
       "6"
      ]
     },
     "execution_count": 83,
     "metadata": {},
     "output_type": "execute_result"
    }
   ],
   "source": [
    "np.argmin(pred10)"
   ]
  },
  {
   "cell_type": "code",
   "execution_count": 85,
   "metadata": {},
   "outputs": [
    {
     "data": {
      "text/plain": [
       "350032.0"
      ]
     },
     "execution_count": 85,
     "metadata": {},
     "output_type": "execute_result"
    }
   ],
   "source": [
    "pred10[6]"
   ]
  },
  {
   "cell_type": "markdown",
   "metadata": {},
   "source": [
    "Choosing the best value of k using a validation set"
   ]
  },
  {
   "cell_type": "code",
   "execution_count": 98,
   "metadata": {},
   "outputs": [
    {
     "name": "stdout",
     "output_type": "stream",
     "text": [
      "k:  1 RSS:  105453830251561.0\n",
      "k:  2 RSS:  83445073504025.5\n",
      "k:  3 RSS:  72692096019202.56\n",
      "k:  4 RSS:  71946721652091.69\n",
      "k:  5 RSS:  69846517419718.6\n",
      "k:  6 RSS:  68899544353180.836\n",
      "k:  7 RSS:  68341973450051.09\n",
      "k:  8 RSS:  67361678735491.5\n",
      "k:  9 RSS:  68372727958976.09\n",
      "k:  10 RSS:  69335048668556.74\n",
      "k:  11 RSS:  69523855215598.83\n",
      "k:  12 RSS:  69049969587246.17\n",
      "k:  13 RSS:  70011254508263.69\n",
      "k:  14 RSS:  70908698869034.34\n",
      "k:  15 RSS:  71106928385945.16\n"
     ]
    }
   ],
   "source": [
    "RSS_list = []\n",
    "for k in range(1,16):\n",
    "    predict=predict_output(k, features_train, output_train, features_valid)\n",
    "    dif = predict-output_valid\n",
    "    RSS = np.sum(dif**2)\n",
    "    print(\"k: \", k, \"RSS: \", RSS)\n",
    "    RSS_list.append(RSS)\n",
    "    "
   ]
  },
  {
   "cell_type": "markdown",
   "metadata": {},
   "source": [
    "25. Quiz Question: What is the RSS on the TEST data using the value of k found above?  To be clear, sum over all houses in the TEST set."
   ]
  },
  {
   "cell_type": "code",
   "execution_count": 78,
   "metadata": {},
   "outputs": [],
   "source": [
    "pred = predict_output(8, features_train, output_train, features_test)"
   ]
  },
  {
   "cell_type": "code",
   "execution_count": 92,
   "metadata": {},
   "outputs": [],
   "source": [
    "residuals = output_test - pred\n",
    "squared = residuals**2\n",
    "RSS = squared.sum()\n"
   ]
  },
  {
   "cell_type": "code",
   "execution_count": 93,
   "metadata": {},
   "outputs": [
    {
     "name": "stdout",
     "output_type": "stream",
     "text": [
      "1.33E+14\n"
     ]
    }
   ],
   "source": [
    "print(\"{:.2E}\".format(RSS))"
   ]
  },
  {
   "cell_type": "code",
   "execution_count": null,
   "metadata": {},
   "outputs": [],
   "source": []
  }
 ],
 "metadata": {
  "kernelspec": {
   "display_name": "ml_linux",
   "language": "python",
   "name": "python3"
  },
  "language_info": {
   "codemirror_mode": {
    "name": "ipython",
    "version": 3
   },
   "file_extension": ".py",
   "mimetype": "text/x-python",
   "name": "python",
   "nbconvert_exporter": "python",
   "pygments_lexer": "ipython3",
   "version": "3.8.20"
  }
 },
 "nbformat": 4,
 "nbformat_minor": 2
}
