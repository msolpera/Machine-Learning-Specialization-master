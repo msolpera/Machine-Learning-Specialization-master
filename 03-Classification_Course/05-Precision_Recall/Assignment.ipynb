{
 "cells": [
  {
   "cell_type": "markdown",
   "id": "244480a3",
   "metadata": {},
   "source": [
    "# Exploring precision and recall\n"
   ]
  },
  {
   "cell_type": "code",
   "execution_count": 2,
   "id": "64429a36",
   "metadata": {},
   "outputs": [],
   "source": [
    "import pandas as pd\n",
    "import numpy as np"
   ]
  },
  {
   "cell_type": "code",
   "execution_count": 3,
   "id": "c94e47b8",
   "metadata": {},
   "outputs": [],
   "source": [
    "products = pd.read_csv('amazon_baby.csv')"
   ]
  },
  {
   "cell_type": "code",
   "execution_count": 6,
   "id": "0156ec06",
   "metadata": {},
   "outputs": [
    {
     "data": {
      "text/html": [
       "<div>\n",
       "<style scoped>\n",
       "    .dataframe tbody tr th:only-of-type {\n",
       "        vertical-align: middle;\n",
       "    }\n",
       "\n",
       "    .dataframe tbody tr th {\n",
       "        vertical-align: top;\n",
       "    }\n",
       "\n",
       "    .dataframe thead th {\n",
       "        text-align: right;\n",
       "    }\n",
       "</style>\n",
       "<table border=\"1\" class=\"dataframe\">\n",
       "  <thead>\n",
       "    <tr style=\"text-align: right;\">\n",
       "      <th></th>\n",
       "      <th>name</th>\n",
       "      <th>review</th>\n",
       "      <th>rating</th>\n",
       "    </tr>\n",
       "  </thead>\n",
       "  <tbody>\n",
       "    <tr>\n",
       "      <th>0</th>\n",
       "      <td>Planetwise Flannel Wipes</td>\n",
       "      <td>These flannel wipes are OK, but in my opinion ...</td>\n",
       "      <td>3</td>\n",
       "    </tr>\n",
       "    <tr>\n",
       "      <th>1</th>\n",
       "      <td>Planetwise Wipe Pouch</td>\n",
       "      <td>it came early and was not disappointed. i love...</td>\n",
       "      <td>5</td>\n",
       "    </tr>\n",
       "    <tr>\n",
       "      <th>2</th>\n",
       "      <td>Annas Dream Full Quilt with 2 Shams</td>\n",
       "      <td>Very soft and comfortable and warmer than it l...</td>\n",
       "      <td>5</td>\n",
       "    </tr>\n",
       "    <tr>\n",
       "      <th>3</th>\n",
       "      <td>Stop Pacifier Sucking without tears with Thumb...</td>\n",
       "      <td>This is a product well worth the purchase.  I ...</td>\n",
       "      <td>5</td>\n",
       "    </tr>\n",
       "    <tr>\n",
       "      <th>4</th>\n",
       "      <td>Stop Pacifier Sucking without tears with Thumb...</td>\n",
       "      <td>All of my kids have cried non-stop when I trie...</td>\n",
       "      <td>5</td>\n",
       "    </tr>\n",
       "    <tr>\n",
       "      <th>...</th>\n",
       "      <td>...</td>\n",
       "      <td>...</td>\n",
       "      <td>...</td>\n",
       "    </tr>\n",
       "    <tr>\n",
       "      <th>183526</th>\n",
       "      <td>Baby Teething Necklace for Mom Pretty Donut Sh...</td>\n",
       "      <td>Such a great idea! very handy to have and look...</td>\n",
       "      <td>5</td>\n",
       "    </tr>\n",
       "    <tr>\n",
       "      <th>183527</th>\n",
       "      <td>Baby Teething Necklace for Mom Pretty Donut Sh...</td>\n",
       "      <td>This product rocks!  It is a great blend of fu...</td>\n",
       "      <td>5</td>\n",
       "    </tr>\n",
       "    <tr>\n",
       "      <th>183528</th>\n",
       "      <td>Abstract 2 PK Baby / Toddler Training Cup (Pink)</td>\n",
       "      <td>This item looks great and cool for my kids.......</td>\n",
       "      <td>5</td>\n",
       "    </tr>\n",
       "    <tr>\n",
       "      <th>183529</th>\n",
       "      <td>Baby Food Freezer Tray - Bacteria Resistant, B...</td>\n",
       "      <td>I am extremely happy with this product. I have...</td>\n",
       "      <td>5</td>\n",
       "    </tr>\n",
       "    <tr>\n",
       "      <th>183530</th>\n",
       "      <td>Best 2 Pack Baby Car Shade for Kids - Window S...</td>\n",
       "      <td>I love this product very mush . I have bought ...</td>\n",
       "      <td>5</td>\n",
       "    </tr>\n",
       "  </tbody>\n",
       "</table>\n",
       "<p>183531 rows × 3 columns</p>\n",
       "</div>"
      ],
      "text/plain": [
       "                                                     name  \\\n",
       "0                                Planetwise Flannel Wipes   \n",
       "1                                   Planetwise Wipe Pouch   \n",
       "2                     Annas Dream Full Quilt with 2 Shams   \n",
       "3       Stop Pacifier Sucking without tears with Thumb...   \n",
       "4       Stop Pacifier Sucking without tears with Thumb...   \n",
       "...                                                   ...   \n",
       "183526  Baby Teething Necklace for Mom Pretty Donut Sh...   \n",
       "183527  Baby Teething Necklace for Mom Pretty Donut Sh...   \n",
       "183528   Abstract 2 PK Baby / Toddler Training Cup (Pink)   \n",
       "183529  Baby Food Freezer Tray - Bacteria Resistant, B...   \n",
       "183530  Best 2 Pack Baby Car Shade for Kids - Window S...   \n",
       "\n",
       "                                                   review  rating  \n",
       "0       These flannel wipes are OK, but in my opinion ...       3  \n",
       "1       it came early and was not disappointed. i love...       5  \n",
       "2       Very soft and comfortable and warmer than it l...       5  \n",
       "3       This is a product well worth the purchase.  I ...       5  \n",
       "4       All of my kids have cried non-stop when I trie...       5  \n",
       "...                                                   ...     ...  \n",
       "183526  Such a great idea! very handy to have and look...       5  \n",
       "183527  This product rocks!  It is a great blend of fu...       5  \n",
       "183528  This item looks great and cool for my kids.......       5  \n",
       "183529  I am extremely happy with this product. I have...       5  \n",
       "183530  I love this product very mush . I have bought ...       5  \n",
       "\n",
       "[183531 rows x 3 columns]"
      ]
     },
     "execution_count": 6,
     "metadata": {},
     "output_type": "execute_result"
    }
   ],
   "source": [
    "products"
   ]
  },
  {
   "cell_type": "code",
   "execution_count": 7,
   "id": "4ebe9474",
   "metadata": {},
   "outputs": [],
   "source": [
    "products = products.fillna({'review':''})"
   ]
  },
  {
   "cell_type": "code",
   "execution_count": 8,
   "id": "e28c4fc7",
   "metadata": {},
   "outputs": [],
   "source": [
    "def remove_punctuation(text):\n",
    "    import string\n",
    "    return text.translate(string.punctuation) \n",
    "\n",
    "products['review_clean'] = products['review'].apply(remove_punctuation)"
   ]
  },
  {
   "cell_type": "code",
   "execution_count": 9,
   "id": "5f952172",
   "metadata": {},
   "outputs": [],
   "source": [
    "products = products[products['rating'] != 3]"
   ]
  },
  {
   "cell_type": "code",
   "execution_count": 10,
   "id": "11cee8e9",
   "metadata": {},
   "outputs": [],
   "source": [
    "products['sentiment'] = products['rating'].apply(lambda rating : +1 if rating > 3 else -1)"
   ]
  },
  {
   "cell_type": "code",
   "execution_count": 11,
   "id": "9a0808af",
   "metadata": {},
   "outputs": [],
   "source": [
    "train = pd.read_json('./module-9-assignment-train-idx.json')\n",
    "test = pd.read_json('./module-9-assignment-test-idx.json')"
   ]
  },
  {
   "cell_type": "code",
   "execution_count": 16,
   "id": "1d3075b2",
   "metadata": {},
   "outputs": [],
   "source": [
    "train_data = products.iloc[train[0]]\n",
    "test_data= products.iloc[test[0]]"
   ]
  },
  {
   "cell_type": "code",
   "execution_count": 17,
   "id": "e08257ba",
   "metadata": {},
   "outputs": [],
   "source": [
    "train_data.reset_index(inplace=True)\n",
    "test_data.reset_index(inplace=True)"
   ]
  },
  {
   "cell_type": "code",
   "execution_count": 18,
   "id": "40ee946e",
   "metadata": {},
   "outputs": [],
   "source": [
    "from sklearn.feature_extraction.text import CountVectorizer\n",
    "\n",
    "vectorizer = CountVectorizer(token_pattern=r'\\b\\w+\\b')\n",
    "     # Use this token pattern to keep single-letter words\n",
    "# First, learn vocabulary from the training data and assign columns to words\n",
    "# Then convert the training data into a sparse matrix\n",
    "train_matrix = vectorizer.fit_transform(train_data['review_clean'])\n",
    "# Second, convert the test data into a sparse matrix, using the same word-column mapping\n",
    "test_matrix = vectorizer.transform(test_data['review_clean'])"
   ]
  },
  {
   "cell_type": "code",
   "execution_count": 26,
   "id": "ae10b455",
   "metadata": {},
   "outputs": [
    {
     "data": {
      "text/html": [
       "<style>#sk-container-id-6 {color: black;}#sk-container-id-6 pre{padding: 0;}#sk-container-id-6 div.sk-toggleable {background-color: white;}#sk-container-id-6 label.sk-toggleable__label {cursor: pointer;display: block;width: 100%;margin-bottom: 0;padding: 0.3em;box-sizing: border-box;text-align: center;}#sk-container-id-6 label.sk-toggleable__label-arrow:before {content: \"▸\";float: left;margin-right: 0.25em;color: #696969;}#sk-container-id-6 label.sk-toggleable__label-arrow:hover:before {color: black;}#sk-container-id-6 div.sk-estimator:hover label.sk-toggleable__label-arrow:before {color: black;}#sk-container-id-6 div.sk-toggleable__content {max-height: 0;max-width: 0;overflow: hidden;text-align: left;background-color: #f0f8ff;}#sk-container-id-6 div.sk-toggleable__content pre {margin: 0.2em;color: black;border-radius: 0.25em;background-color: #f0f8ff;}#sk-container-id-6 input.sk-toggleable__control:checked~div.sk-toggleable__content {max-height: 200px;max-width: 100%;overflow: auto;}#sk-container-id-6 input.sk-toggleable__control:checked~label.sk-toggleable__label-arrow:before {content: \"▾\";}#sk-container-id-6 div.sk-estimator input.sk-toggleable__control:checked~label.sk-toggleable__label {background-color: #d4ebff;}#sk-container-id-6 div.sk-label input.sk-toggleable__control:checked~label.sk-toggleable__label {background-color: #d4ebff;}#sk-container-id-6 input.sk-hidden--visually {border: 0;clip: rect(1px 1px 1px 1px);clip: rect(1px, 1px, 1px, 1px);height: 1px;margin: -1px;overflow: hidden;padding: 0;position: absolute;width: 1px;}#sk-container-id-6 div.sk-estimator {font-family: monospace;background-color: #f0f8ff;border: 1px dotted black;border-radius: 0.25em;box-sizing: border-box;margin-bottom: 0.5em;}#sk-container-id-6 div.sk-estimator:hover {background-color: #d4ebff;}#sk-container-id-6 div.sk-parallel-item::after {content: \"\";width: 100%;border-bottom: 1px solid gray;flex-grow: 1;}#sk-container-id-6 div.sk-label:hover label.sk-toggleable__label {background-color: #d4ebff;}#sk-container-id-6 div.sk-serial::before {content: \"\";position: absolute;border-left: 1px solid gray;box-sizing: border-box;top: 0;bottom: 0;left: 50%;z-index: 0;}#sk-container-id-6 div.sk-serial {display: flex;flex-direction: column;align-items: center;background-color: white;padding-right: 0.2em;padding-left: 0.2em;position: relative;}#sk-container-id-6 div.sk-item {position: relative;z-index: 1;}#sk-container-id-6 div.sk-parallel {display: flex;align-items: stretch;justify-content: center;background-color: white;position: relative;}#sk-container-id-6 div.sk-item::before, #sk-container-id-6 div.sk-parallel-item::before {content: \"\";position: absolute;border-left: 1px solid gray;box-sizing: border-box;top: 0;bottom: 0;left: 50%;z-index: -1;}#sk-container-id-6 div.sk-parallel-item {display: flex;flex-direction: column;z-index: 1;position: relative;background-color: white;}#sk-container-id-6 div.sk-parallel-item:first-child::after {align-self: flex-end;width: 50%;}#sk-container-id-6 div.sk-parallel-item:last-child::after {align-self: flex-start;width: 50%;}#sk-container-id-6 div.sk-parallel-item:only-child::after {width: 0;}#sk-container-id-6 div.sk-dashed-wrapped {border: 1px dashed gray;margin: 0 0.4em 0.5em 0.4em;box-sizing: border-box;padding-bottom: 0.4em;background-color: white;}#sk-container-id-6 div.sk-label label {font-family: monospace;font-weight: bold;display: inline-block;line-height: 1.2em;}#sk-container-id-6 div.sk-label-container {text-align: center;}#sk-container-id-6 div.sk-container {/* jupyter's `normalize.less` sets `[hidden] { display: none; }` but bootstrap.min.css set `[hidden] { display: none !important; }` so we also need the `!important` here to be able to override the default hidden behavior on the sphinx rendered scikit-learn.org. See: https://github.com/scikit-learn/scikit-learn/issues/21755 */display: inline-block !important;position: relative;}#sk-container-id-6 div.sk-text-repr-fallback {display: none;}</style><div id=\"sk-container-id-6\" class=\"sk-top-container\"><div class=\"sk-text-repr-fallback\"><pre>LogisticRegression(max_iter=300, solver=&#x27;liblinear&#x27;)</pre><b>In a Jupyter environment, please rerun this cell to show the HTML representation or trust the notebook. <br />On GitHub, the HTML representation is unable to render, please try loading this page with nbviewer.org.</b></div><div class=\"sk-container\" hidden><div class=\"sk-item\"><div class=\"sk-estimator sk-toggleable\"><input class=\"sk-toggleable__control sk-hidden--visually\" id=\"sk-estimator-id-6\" type=\"checkbox\" checked><label for=\"sk-estimator-id-6\" class=\"sk-toggleable__label sk-toggleable__label-arrow\">LogisticRegression</label><div class=\"sk-toggleable__content\"><pre>LogisticRegression(max_iter=300, solver=&#x27;liblinear&#x27;)</pre></div></div></div></div></div>"
      ],
      "text/plain": [
       "LogisticRegression(max_iter=300, solver='liblinear')"
      ]
     },
     "execution_count": 26,
     "metadata": {},
     "output_type": "execute_result"
    }
   ],
   "source": [
    "from sklearn.linear_model import LogisticRegression\n",
    "model = LogisticRegression(max_iter=300, solver='liblinear')\n",
    "model.fit(train_matrix, train_set['sentiment'])"
   ]
  },
  {
   "cell_type": "code",
   "execution_count": 28,
   "id": "da3b39ab",
   "metadata": {},
   "outputs": [
    {
     "name": "stdout",
     "output_type": "stream",
     "text": [
      "Test Accuracy: 0.9320254379649628\n"
     ]
    }
   ],
   "source": [
    "accuracy= model.score(test_matrix, test_set['sentiment'])\n",
    "print(\"Test Accuracy: %s\" % accuracy)"
   ]
  },
  {
   "cell_type": "code",
   "execution_count": 30,
   "id": "35998a60",
   "metadata": {},
   "outputs": [
    {
     "name": "stdout",
     "output_type": "stream",
     "text": [
      "Test Accuracy: 0.9320254379649628\n"
     ]
    }
   ],
   "source": [
    "from sklearn.metrics import accuracy_score\n",
    "accuracy = accuracy_score(y_true=test_data['sentiment'].to_numpy(), y_pred=model.predict(test_matrix))\n",
    "print(\"Test Accuracy: %s\" % accuracy)"
   ]
  },
  {
   "cell_type": "code",
   "execution_count": 31,
   "id": "3be7db5b",
   "metadata": {},
   "outputs": [
    {
     "name": "stdout",
     "output_type": "stream",
     "text": [
      "Baseline accuracy (majority class classifier): 0.8427825773938085\n"
     ]
    }
   ],
   "source": [
    "baseline = len(test_data[test_data['sentiment'] == 1])/len(test_data)\n",
    "print(\"Baseline accuracy (majority class classifier): %s\" % baseline)"
   ]
  },
  {
   "cell_type": "code",
   "execution_count": 34,
   "id": "4a01b384",
   "metadata": {},
   "outputs": [
    {
     "name": "stdout",
     "output_type": "stream",
     "text": [
      " target_label | predicted_label | count \n",
      "--------------+-----------------+-------\n",
      "     -1       |       -1        |  3783\n",
      "     -1       |        1        |  1458\n",
      "      1       |       -1        |   808\n",
      "      1       |        1        | 27287\n"
     ]
    }
   ],
   "source": [
    "from sklearn.metrics import confusion_matrix\n",
    "cmat = confusion_matrix(y_true=test_data['sentiment'].to_numpy(),\n",
    "                        y_pred=model.predict(test_matrix),\n",
    "                        labels=model.classes_)    # use the same order of class as the LR model.\n",
    "print(' target_label | predicted_label | count ')\n",
    "print('--------------+-----------------+-------')\n",
    "# Print out the confusion matrix.\n",
    "# NOTE: Your tool may arrange entries in a different order. Consult appropriate manuals.\n",
    "for i, target_label in enumerate(model.classes_):\n",
    "    for j, predicted_label in enumerate(model.classes_):\n",
    "        print ('{0:^13} | {1:^15} | {2:5d}'.format(target_label, predicted_label, cmat[i,j]))"
   ]
  },
  {
   "cell_type": "code",
   "execution_count": 40,
   "id": "ca271a25",
   "metadata": {},
   "outputs": [],
   "source": [
    "VP = 27287\n",
    "VN = 3783\n",
    "FP = 1458\n",
    "FN = 808"
   ]
  },
  {
   "cell_type": "code",
   "execution_count": null,
   "id": "74e7dd67",
   "metadata": {},
   "outputs": [
    {
     "name": "stdout",
     "output_type": "stream",
     "text": [
      "Precision on test data: 0.9492781353278831\n"
     ]
    }
   ],
   "source": [
    "from sklearn.metrics import precision_score\n",
    "precision = precision_score(y_true=test_data['sentiment'].to_numpy(), \n",
    "                            y_pred=model.predict(test_matrix))\n",
    "print(\"Precision on test data: %s\" % precision)"
   ]
  },
  {
   "cell_type": "markdown",
   "id": "e82f7665",
   "metadata": {},
   "source": [
    "\n",
    "Suppose you know the costs involved in each kind of mistake: \n",
    "1. \\$100 for each false positive.\n",
    "2. \\$1 for each false negative.\n",
    "3. Correctly classified reviews incur no cost."
   ]
  },
  {
   "cell_type": "code",
   "execution_count": 37,
   "id": "1cb4f6ea",
   "metadata": {},
   "outputs": [
    {
     "data": {
      "text/plain": [
       "146608"
      ]
     },
     "execution_count": 37,
     "metadata": {},
     "output_type": "execute_result"
    }
   ],
   "source": [
    "cost = 1458*100+808*1\n",
    "cost"
   ]
  },
  {
   "cell_type": "code",
   "execution_count": 39,
   "id": "b45d324a",
   "metadata": {},
   "outputs": [
    {
     "name": "stdout",
     "output_type": "stream",
     "text": [
      "Precision on test data: 0.9492781353278831\n"
     ]
    }
   ],
   "source": [
    "from sklearn.metrics import precision_score\n",
    "precision = precision_score(y_true=test_data['sentiment'].to_numpy(), \n",
    "                            y_pred=model.predict(test_matrix))\n",
    "print(\"Precision on test data: %s\" % precision)"
   ]
  },
  {
   "cell_type": "markdown",
   "id": "fe85bc38",
   "metadata": {},
   "source": [
    "**Quiz Question**: Out of all reviews in the **test set** that are predicted to be positive, what fraction of them are **false positives**? (Round to the second decimal place e.g. 0.25)"
   ]
  },
  {
   "cell_type": "code",
   "execution_count": 41,
   "id": "8d3aba89",
   "metadata": {},
   "outputs": [
    {
     "data": {
      "text/plain": [
       "0.05072186467211689"
      ]
     },
     "execution_count": 41,
     "metadata": {},
     "output_type": "execute_result"
    }
   ],
   "source": [
    "FP/(FP+VP)"
   ]
  },
  {
   "cell_type": "code",
   "execution_count": 42,
   "id": "e86f5cc1",
   "metadata": {},
   "outputs": [
    {
     "name": "stdout",
     "output_type": "stream",
     "text": [
      "Recall on test data: 0.9712404342409682\n"
     ]
    }
   ],
   "source": [
    "from sklearn.metrics import recall_score\n",
    "recall = recall_score(y_true=test_data['sentiment'].to_numpy(),\n",
    "                      y_pred=model.predict(test_matrix))\n",
    "print(\"Recall on test data: %s\" % recall)"
   ]
  },
  {
   "cell_type": "markdown",
   "id": "6bd00a31",
   "metadata": {},
   "source": [
    "Quiz Question: What fraction of the positive reviews in the test_set were correctly predicted as positive by the classifier?"
   ]
  },
  {
   "cell_type": "code",
   "execution_count": 43,
   "id": "ebbcd3c0",
   "metadata": {},
   "outputs": [
    {
     "data": {
      "text/plain": [
       "0.9492781353278831"
      ]
     },
     "execution_count": 43,
     "metadata": {},
     "output_type": "execute_result"
    }
   ],
   "source": [
    "VP/(VP+FP)"
   ]
  },
  {
   "cell_type": "code",
   "execution_count": 71,
   "id": "88df5d53",
   "metadata": {},
   "outputs": [],
   "source": [
    "def apply_threshold(probabilities, threshold):\n",
    "    predict = np.array([1 if probabilities[i]>=threshold else -1 for i in range(len(probabilities))])\n",
    "    return predict\n",
    "    "
   ]
  },
  {
   "cell_type": "code",
   "execution_count": 72,
   "id": "9ca12af6",
   "metadata": {},
   "outputs": [],
   "source": [
    "probabilities = model.predict_proba(test_matrix)[:,1]"
   ]
  },
  {
   "cell_type": "code",
   "execution_count": 73,
   "id": "9f733432",
   "metadata": {},
   "outputs": [],
   "source": [
    "predictions_with_default_threshold = apply_threshold(probabilities, 0.5)\n",
    "predictions_with_high_threshold = apply_threshold(probabilities, 0.9)"
   ]
  },
  {
   "cell_type": "code",
   "execution_count": 74,
   "id": "2f12eb75",
   "metadata": {},
   "outputs": [
    {
     "name": "stdout",
     "output_type": "stream",
     "text": [
      "Number of positive predicted reviews (threshold = 0.5): 28745\n"
     ]
    }
   ],
   "source": [
    "print(\"Number of positive predicted reviews (threshold = 0.5): %s\" % (np.array(predictions_with_default_threshold) == 1).astype(int).sum())"
   ]
  },
  {
   "cell_type": "code",
   "execution_count": 75,
   "id": "8b2579e8",
   "metadata": {},
   "outputs": [
    {
     "name": "stdout",
     "output_type": "stream",
     "text": [
      "Number of positive predicted reviews (threshold = 0.5): 25055\n"
     ]
    }
   ],
   "source": [
    "print(\"Number of positive predicted reviews (threshold = 0.5): %s\" % (np.array(predictions_with_high_threshold) == 1).astype(int).sum())"
   ]
  },
  {
   "cell_type": "code",
   "execution_count": 76,
   "id": "243a5f42",
   "metadata": {},
   "outputs": [],
   "source": [
    "# Threshold = 0.5\n",
    "precision_with_default_threshold = precision_score(y_true=test_data['sentiment'].to_numpy(),\n",
    "                                        y_pred=predictions_with_default_threshold)\n",
    "                                       \n",
    "\n",
    "recall_with_default_threshold = recall_score(y_true=test_data['sentiment'].to_numpy(),\n",
    "                                        y_pred=predictions_with_default_threshold)\n",
    "\n",
    "# Threshold = 0.9\n",
    "precision_with_high_threshold = precision_score(y_true=test_data['sentiment'].to_numpy(),\n",
    "                                        y_pred=predictions_with_high_threshold)\n",
    "recall_with_high_threshold = recall_score(y_true=test_data['sentiment'].to_numpy(),\n",
    "                                        y_pred=predictions_with_high_threshold)"
   ]
  },
  {
   "cell_type": "code",
   "execution_count": 77,
   "id": "b20a2126",
   "metadata": {},
   "outputs": [
    {
     "name": "stdout",
     "output_type": "stream",
     "text": [
      "Precision (threshold = 0.5): 0.9492781353278831\n",
      "Recall (threshold = 0.5)   : 0.9712404342409682\n"
     ]
    }
   ],
   "source": [
    "print(\"Precision (threshold = 0.5): %s\" % precision_with_default_threshold)\n",
    "print(\"Recall (threshold = 0.5)   : %s\" % recall_with_default_threshold)"
   ]
  },
  {
   "cell_type": "code",
   "execution_count": 78,
   "id": "b98218a4",
   "metadata": {},
   "outputs": [
    {
     "name": "stdout",
     "output_type": "stream",
     "text": [
      "Precision (threshold = 0.9): 0.981281181400918\n",
      "Recall (threshold = 0.9)   : 0.8751023313756896\n"
     ]
    }
   ],
   "source": [
    "print(\"Precision (threshold = 0.9): %s\" % precision_with_high_threshold)\n",
    "print(\"Recall (threshold = 0.9)   : %s\" % recall_with_high_threshold)"
   ]
  },
  {
   "cell_type": "code",
   "execution_count": 79,
   "id": "479b3124",
   "metadata": {},
   "outputs": [
    {
     "name": "stdout",
     "output_type": "stream",
     "text": [
      "[0.5        0.50505051 0.51010101 0.51515152 0.52020202 0.52525253\n",
      " 0.53030303 0.53535354 0.54040404 0.54545455 0.55050505 0.55555556\n",
      " 0.56060606 0.56565657 0.57070707 0.57575758 0.58080808 0.58585859\n",
      " 0.59090909 0.5959596  0.6010101  0.60606061 0.61111111 0.61616162\n",
      " 0.62121212 0.62626263 0.63131313 0.63636364 0.64141414 0.64646465\n",
      " 0.65151515 0.65656566 0.66161616 0.66666667 0.67171717 0.67676768\n",
      " 0.68181818 0.68686869 0.69191919 0.6969697  0.7020202  0.70707071\n",
      " 0.71212121 0.71717172 0.72222222 0.72727273 0.73232323 0.73737374\n",
      " 0.74242424 0.74747475 0.75252525 0.75757576 0.76262626 0.76767677\n",
      " 0.77272727 0.77777778 0.78282828 0.78787879 0.79292929 0.7979798\n",
      " 0.8030303  0.80808081 0.81313131 0.81818182 0.82323232 0.82828283\n",
      " 0.83333333 0.83838384 0.84343434 0.84848485 0.85353535 0.85858586\n",
      " 0.86363636 0.86868687 0.87373737 0.87878788 0.88383838 0.88888889\n",
      " 0.89393939 0.8989899  0.9040404  0.90909091 0.91414141 0.91919192\n",
      " 0.92424242 0.92929293 0.93434343 0.93939394 0.94444444 0.94949495\n",
      " 0.95454545 0.95959596 0.96464646 0.96969697 0.97474747 0.97979798\n",
      " 0.98484848 0.98989899 0.99494949 1.        ]\n"
     ]
    }
   ],
   "source": [
    "threshold_values = np.linspace(0.5, 1, num=100)\n",
    "print(threshold_values)"
   ]
  },
  {
   "cell_type": "code",
   "execution_count": 81,
   "id": "bf9296d3",
   "metadata": {},
   "outputs": [],
   "source": [
    "precision_all = []\n",
    "recall_all = []\n",
    "\n",
    "probabilities = model.predict_proba(test_matrix)[:,1]\n",
    "for threshold in threshold_values:\n",
    "    predictions = apply_threshold(probabilities, threshold)\n",
    "    \n",
    "    precision = precision_score(y_true=test_data['sentiment'].to_numpy(),\n",
    "                                        y_pred=predictions)\n",
    "    recall = recall_score(y_true=test_data['sentiment'].to_numpy(),\n",
    "                                        y_pred=predictions)\n",
    "    \n",
    "    precision_all.append(precision)\n",
    "    recall_all.append(recall)"
   ]
  },
  {
   "cell_type": "code",
   "execution_count": 82,
   "id": "fa281c4f",
   "metadata": {},
   "outputs": [
    {
     "name": "stderr",
     "output_type": "stream",
     "text": [
      "/tmp/ipykernel_17477/1300213809.py:7: UserWarning: color is redundantly defined by the 'color' keyword argument and the fmt string \"b-\" (-> color='b'). The keyword argument will take precedence.\n",
      "  plt.plot(precision, recall, 'b-', linewidth=4.0, color = '#B0017F')\n"
     ]
    },
    {
     "data": {
      "image/png": "[encoded data removed]",
      "text/plain": [
       "<Figure size 700x500 with 1 Axes>"
      ]
     },
     "metadata": {},
     "output_type": "display_data"
    }
   ],
   "source": [
    "import matplotlib.pyplot as plt\n",
    "%matplotlib inline\n",
    "\n",
    "def plot_pr_curve(precision, recall, title):\n",
    "    plt.rcParams['figure.figsize'] = 7, 5\n",
    "    plt.locator_params(axis = 'x', nbins = 5)\n",
    "    plt.plot(precision, recall, 'b-', linewidth=4.0, color = '#B0017F')\n",
    "    plt.title(title)\n",
    "    plt.xlabel('Precision')\n",
    "    plt.ylabel('Recall')\n",
    "    plt.rcParams.update({'font.size': 16})\n",
    "    \n",
    "plot_pr_curve(precision_all, recall_all, 'Precision recall curve (all)')"
   ]
  },
  {
   "cell_type": "code",
   "execution_count": 85,
   "id": "8726df6a",
   "metadata": {},
   "outputs": [
    {
     "data": {
      "text/plain": [
       "0.7121212121212122"
      ]
     },
     "execution_count": 85,
     "metadata": {},
     "output_type": "execute_result"
    }
   ],
   "source": [
    "threshold_values[np.array(precision_all)>=0.965][0]"
   ]
  },
  {
   "cell_type": "code",
   "execution_count": 88,
   "id": "b3898dc0",
   "metadata": {},
   "outputs": [],
   "source": [
    "predictions = apply_threshold(probabilities, 0.98)"
   ]
  },
  {
   "cell_type": "code",
   "execution_count": 93,
   "id": "40948dfd",
   "metadata": {},
   "outputs": [
    {
     "data": {
      "text/plain": [
       "8189"
      ]
     },
     "execution_count": 93,
     "metadata": {},
     "output_type": "execute_result"
    }
   ],
   "source": [
    "FN = len(predictions[((predictions == -1) & (test_data['sentiment']==1))])\n",
    "FN"
   ]
  },
  {
   "cell_type": "code",
   "execution_count": 95,
   "id": "435a1a4b",
   "metadata": {},
   "outputs": [
    {
     "data": {
      "text/plain": [
       "0        Baby Tracker&reg; - Daily Childcare Journal, S...\n",
       "1        Baby Tracker&reg; - Daily Childcare Journal, S...\n",
       "2           Nature's Lullabies First Year Sticker Calendar\n",
       "3          Nature's Lullabies Second Year Sticker Calendar\n",
       "4                              Lamaze Peekaboo, I Love You\n",
       "                               ...                        \n",
       "33331    Maxboost iPhone 5S/5 Case - Protective Snap-on...\n",
       "33332    Maxboost iPhone 5S/5 Case - Protective Snap-on...\n",
       "33333    Airline Seat Belt Extender - The Best Extensio...\n",
       "33334    Squeasy Snacker 6oz Silicone Reusable Food Pou...\n",
       "33335    Best 2 Pack Baby Car Shade for Kids - Window S...\n",
       "Name: name, Length: 33336, dtype: object"
      ]
     },
     "execution_count": 95,
     "metadata": {},
     "output_type": "execute_result"
    }
   ],
   "source": [
    "test_data['name']"
   ]
  },
  {
   "cell_type": "code",
   "execution_count": 97,
   "id": "46e79607",
   "metadata": {},
   "outputs": [],
   "source": [
    "baby_reviews = test_data[test_data['name'].astype(str).apply(lambda x: 'baby' in x.lower())]"
   ]
  },
  {
   "cell_type": "code",
   "execution_count": 98,
   "id": "7f31f6d3",
   "metadata": {},
   "outputs": [
    {
     "data": {
      "text/html": [
       "<div>\n",
       "<style scoped>\n",
       "    .dataframe tbody tr th:only-of-type {\n",
       "        vertical-align: middle;\n",
       "    }\n",
       "\n",
       "    .dataframe tbody tr th {\n",
       "        vertical-align: top;\n",
       "    }\n",
       "\n",
       "    .dataframe thead th {\n",
       "        text-align: right;\n",
       "    }\n",
       "</style>\n",
       "<table border=\"1\" class=\"dataframe\">\n",
       "  <thead>\n",
       "    <tr style=\"text-align: right;\">\n",
       "      <th></th>\n",
       "      <th>index</th>\n",
       "      <th>name</th>\n",
       "      <th>review</th>\n",
       "      <th>rating</th>\n",
       "      <th>review_clean</th>\n",
       "      <th>sentiment</th>\n",
       "    </tr>\n",
       "  </thead>\n",
       "  <tbody>\n",
       "    <tr>\n",
       "      <th>0</th>\n",
       "      <td>9</td>\n",
       "      <td>Baby Tracker&amp;reg; - Daily Childcare Journal, S...</td>\n",
       "      <td>This has been an easy way for my nanny to reco...</td>\n",
       "      <td>4</td>\n",
       "      <td>This has been an easy way for my nanny to reco...</td>\n",
       "      <td>1</td>\n",
       "    </tr>\n",
       "    <tr>\n",
       "      <th>1</th>\n",
       "      <td>10</td>\n",
       "      <td>Baby Tracker&amp;reg; - Daily Childcare Journal, S...</td>\n",
       "      <td>I love this journal and our nanny uses it ever...</td>\n",
       "      <td>4</td>\n",
       "      <td>I love this journal and our nanny uses it ever...</td>\n",
       "      <td>1</td>\n",
       "    </tr>\n",
       "    <tr>\n",
       "      <th>9</th>\n",
       "      <td>56</td>\n",
       "      <td>Baby's First Year Undated Wall Calendar with S...</td>\n",
       "      <td>I searched high and low for a first year calen...</td>\n",
       "      <td>5</td>\n",
       "      <td>I searched high and low for a first year calen...</td>\n",
       "      <td>1</td>\n",
       "    </tr>\n",
       "    <tr>\n",
       "      <th>10</th>\n",
       "      <td>59</td>\n",
       "      <td>Our Baby Girl Memory Book</td>\n",
       "      <td>Absolutely love it and all of the Scripture in...</td>\n",
       "      <td>5</td>\n",
       "      <td>Absolutely love it and all of the Scripture in...</td>\n",
       "      <td>1</td>\n",
       "    </tr>\n",
       "    <tr>\n",
       "      <th>13</th>\n",
       "      <td>112</td>\n",
       "      <td>Newborn Baby Tracker&amp;reg; - Round the Clock Ch...</td>\n",
       "      <td>This is the best way to keep track of when you...</td>\n",
       "      <td>5</td>\n",
       "      <td>This is the best way to keep track of when you...</td>\n",
       "      <td>1</td>\n",
       "    </tr>\n",
       "    <tr>\n",
       "      <th>...</th>\n",
       "      <td>...</td>\n",
       "      <td>...</td>\n",
       "      <td>...</td>\n",
       "      <td>...</td>\n",
       "      <td>...</td>\n",
       "      <td>...</td>\n",
       "    </tr>\n",
       "    <tr>\n",
       "      <th>33314</th>\n",
       "      <td>183406</td>\n",
       "      <td>My Learning Lovey by Baby Jack. Educational ba...</td>\n",
       "      <td>Amazing products come from Baby Jack Blankets!...</td>\n",
       "      <td>5</td>\n",
       "      <td>Amazing products come from Baby Jack Blankets!...</td>\n",
       "      <td>1</td>\n",
       "    </tr>\n",
       "    <tr>\n",
       "      <th>33315</th>\n",
       "      <td>183414</td>\n",
       "      <td>Samsung Baby Care Washer, Stainless Platinum, ...</td>\n",
       "      <td>My infant goes to a really crappy daycare, and...</td>\n",
       "      <td>1</td>\n",
       "      <td>My infant goes to a really crappy daycare, and...</td>\n",
       "      <td>-1</td>\n",
       "    </tr>\n",
       "    <tr>\n",
       "      <th>33322</th>\n",
       "      <td>183459</td>\n",
       "      <td>Sweet CareFor Bamboo Baby Wipes - 80 Wipe Pack...</td>\n",
       "      <td>Gave these a try and was impressed!  Thick, du...</td>\n",
       "      <td>5</td>\n",
       "      <td>Gave these a try and was impressed!  Thick, du...</td>\n",
       "      <td>1</td>\n",
       "    </tr>\n",
       "    <tr>\n",
       "      <th>33325</th>\n",
       "      <td>183465</td>\n",
       "      <td>Swaddle - &amp;quot;Classic&amp;quot; Zen Swaddle - We...</td>\n",
       "      <td>Overall we really like this swaddle; the light...</td>\n",
       "      <td>4</td>\n",
       "      <td>Overall we really like this swaddle; the light...</td>\n",
       "      <td>1</td>\n",
       "    </tr>\n",
       "    <tr>\n",
       "      <th>33335</th>\n",
       "      <td>183530</td>\n",
       "      <td>Best 2 Pack Baby Car Shade for Kids - Window S...</td>\n",
       "      <td>I love this product very mush . I have bought ...</td>\n",
       "      <td>5</td>\n",
       "      <td>I love this product very mush . I have bought ...</td>\n",
       "      <td>1</td>\n",
       "    </tr>\n",
       "  </tbody>\n",
       "</table>\n",
       "<p>6611 rows × 6 columns</p>\n",
       "</div>"
      ],
      "text/plain": [
       "        index                                               name  \\\n",
       "0           9  Baby Tracker&reg; - Daily Childcare Journal, S...   \n",
       "1          10  Baby Tracker&reg; - Daily Childcare Journal, S...   \n",
       "9          56  Baby's First Year Undated Wall Calendar with S...   \n",
       "10         59                          Our Baby Girl Memory Book   \n",
       "13        112  Newborn Baby Tracker&reg; - Round the Clock Ch...   \n",
       "...       ...                                                ...   \n",
       "33314  183406  My Learning Lovey by Baby Jack. Educational ba...   \n",
       "33315  183414  Samsung Baby Care Washer, Stainless Platinum, ...   \n",
       "33322  183459  Sweet CareFor Bamboo Baby Wipes - 80 Wipe Pack...   \n",
       "33325  183465  Swaddle - &quot;Classic&quot; Zen Swaddle - We...   \n",
       "33335  183530  Best 2 Pack Baby Car Shade for Kids - Window S...   \n",
       "\n",
       "                                                  review  rating  \\\n",
       "0      This has been an easy way for my nanny to reco...       4   \n",
       "1      I love this journal and our nanny uses it ever...       4   \n",
       "9      I searched high and low for a first year calen...       5   \n",
       "10     Absolutely love it and all of the Scripture in...       5   \n",
       "13     This is the best way to keep track of when you...       5   \n",
       "...                                                  ...     ...   \n",
       "33314  Amazing products come from Baby Jack Blankets!...       5   \n",
       "33315  My infant goes to a really crappy daycare, and...       1   \n",
       "33322  Gave these a try and was impressed!  Thick, du...       5   \n",
       "33325  Overall we really like this swaddle; the light...       4   \n",
       "33335  I love this product very mush . I have bought ...       5   \n",
       "\n",
       "                                            review_clean  sentiment  \n",
       "0      This has been an easy way for my nanny to reco...          1  \n",
       "1      I love this journal and our nanny uses it ever...          1  \n",
       "9      I searched high and low for a first year calen...          1  \n",
       "10     Absolutely love it and all of the Scripture in...          1  \n",
       "13     This is the best way to keep track of when you...          1  \n",
       "...                                                  ...        ...  \n",
       "33314  Amazing products come from Baby Jack Blankets!...          1  \n",
       "33315  My infant goes to a really crappy daycare, and...         -1  \n",
       "33322  Gave these a try and was impressed!  Thick, du...          1  \n",
       "33325  Overall we really like this swaddle; the light...          1  \n",
       "33335  I love this product very mush . I have bought ...          1  \n",
       "\n",
       "[6611 rows x 6 columns]"
      ]
     },
     "execution_count": 98,
     "metadata": {},
     "output_type": "execute_result"
    }
   ],
   "source": [
    "baby_reviews"
   ]
  },
  {
   "cell_type": "code",
   "execution_count": 99,
   "id": "bc8dfb6f",
   "metadata": {},
   "outputs": [],
   "source": [
    "baby_matrix = vectorizer.transform(baby_reviews['review_clean'])\n",
    "probabilities = model.predict_proba(baby_matrix)[:,1]"
   ]
  },
  {
   "cell_type": "code",
   "execution_count": 100,
   "id": "d98fb325",
   "metadata": {},
   "outputs": [],
   "source": [
    "threshold_values = np.linspace(0.5, 1, num=100)"
   ]
  },
  {
   "cell_type": "code",
   "execution_count": 101,
   "id": "ec120e2b",
   "metadata": {},
   "outputs": [],
   "source": [
    "precision_all = []\n",
    "recall_all = []\n",
    "\n",
    "for threshold in threshold_values:\n",
    "    \n",
    "    # Make predictions. Use the `apply_threshold` function \n",
    "    predictions = apply_threshold(probabilities, threshold)\n",
    "\n",
    "    \n",
    "    precision = precision_score(y_true=baby_reviews['sentiment'].to_numpy(),\n",
    "                                        y_pred=predictions)\n",
    "    recall = recall_score(y_true=baby_reviews['sentiment'].to_numpy(),\n",
    "                                        y_pred=predictions)\n",
    "    \n",
    "    precision_all.append(precision)\n",
    "    recall_all.append(recall)"
   ]
  },
  {
   "cell_type": "code",
   "execution_count": 102,
   "id": "8f489938",
   "metadata": {},
   "outputs": [
    {
     "data": {
      "text/plain": [
       "0.7474747474747475"
      ]
     },
     "execution_count": 102,
     "metadata": {},
     "output_type": "execute_result"
    }
   ],
   "source": [
    "threshold_values[np.array(precision_all)>=0.965][0]"
   ]
  },
  {
   "cell_type": "code",
   "execution_count": 103,
   "id": "99dd0ac5",
   "metadata": {},
   "outputs": [
    {
     "name": "stderr",
     "output_type": "stream",
     "text": [
      "/tmp/ipykernel_17477/1300213809.py:7: UserWarning: color is redundantly defined by the 'color' keyword argument and the fmt string \"b-\" (-> color='b'). The keyword argument will take precedence.\n",
      "  plt.plot(precision, recall, 'b-', linewidth=4.0, color = '#B0017F')\n"
     ]
    },
    {
     "data": {
      "image/png": "[encoded data removed]",
      "text/plain": [
       "<Figure size 700x500 with 1 Axes>"
      ]
     },
     "metadata": {},
     "output_type": "display_data"
    }
   ],
   "source": [
    "plot_pr_curve(precision_all, recall_all, \"Precision-Recall (Baby)\")"
   ]
  },
  {
   "cell_type": "code",
   "execution_count": null,
   "id": "2d276956",
   "metadata": {},
   "outputs": [],
   "source": []
  }
 ],
 "metadata": {
  "kernelspec": {
   "display_name": "ml_linux",
   "language": "python",
   "name": "python3"
  },
  "language_info": {
   "codemirror_mode": {
    "name": "ipython",
    "version": 3
   },
   "file_extension": ".py",
   "mimetype": "text/x-python",
   "name": "python",
   "nbconvert_exporter": "python",
   "pygments_lexer": "ipython3",
   "version": "3.8.20"
  }
 },
 "nbformat": 4,
 "nbformat_minor": 5
}
